{
  "cells": [
    {
      "cell_type": "markdown",
      "metadata": {
        "id": "LwNpAFw_eTF3"
      },
      "source": [
        "#Домашнє завдання до тем apply(), groupby(), pivot_table()"
      ]
    },
    {
      "cell_type": "markdown",
      "metadata": {
        "id": "vP2PEJyq8Yrj"
      },
      "source": [
        "В цьому домашньому завданні продовжуємо працювати з набором даних `supermarket_sales.csv`."
      ]
    },
    {
      "cell_type": "markdown",
      "metadata": {
        "id": "dh9lfpDb8gBL"
      },
      "source": [
        "0. Імпортуйте бібліотеку pandas та зчитайте дані у змінну `df` типу `pandas.DataFrame`."
      ]
    },
    {
      "cell_type": "code",
      "execution_count": 1,
      "metadata": {
        "id": "xBI9gJMK8qnl"
      },
      "outputs": [],
      "source": [
        "import pandas as pd\n",
        "DATA_DIR = '../../data/supermarket_sales.csv'\n",
        "df = pd.read_csv(DATA_DIR)"
      ]
    },
    {
      "cell_type": "markdown",
      "metadata": {
        "id": "28638363"
      },
      "source": [
        "1. Дослідимо, який філіал супермаркету ('Branch') є найприбутковішим. Для цього знайдіть сумарний прибуток за кожним філіалом і виявіть, який філіал має найвищий."
      ]
    },
    {
      "cell_type": "code",
      "execution_count": 7,
      "metadata": {
        "ExecuteTime": {
          "end_time": "2022-11-01T17:27:42.023877Z",
          "start_time": "2022-11-01T17:27:42.020277Z"
        },
        "id": "916d731d"
      },
      "outputs": [
        {
          "name": "stdout",
          "output_type": "stream",
          "text": [
            "Найприбутковіший філіал: C з прибутком 5265.18\n",
            "        gross income\n",
            "Branch              \n",
            "A          5057.1605\n",
            "B          5057.0320\n",
            "C          5265.1765\n"
          ]
        }
      ],
      "source": [
        "profit_pivot = df.pivot_table(\n",
        "    index='Branch',\n",
        "    values='gross income',\n",
        "    aggfunc='sum'\n",
        ")\n",
        "most_profitable_branch = profit_pivot['gross income'].idxmax()\n",
        "max_profit = profit_pivot['gross income'].max()\n",
        "\n",
        "print(f\"Найприбутковіший філіал: {most_profitable_branch} з прибутком {max_profit:.2f}\")\n",
        "print(profit_pivot)\n"
      ]
    },
    {
      "cell_type": "markdown",
      "metadata": {
        "id": "2qL_OddUCZKK"
      },
      "source": [
        "2. В якому місті знайходиться філіал з найвищим прибутком? Може в тому місці нам розмітисти ще один магазин.  \n",
        "Знайдіть відповідь за допомогою функціоналу Pandas."
      ]
    },
    {
      "cell_type": "code",
      "execution_count": 10,
      "metadata": {
        "id": "bBJUc1dWCwdi"
      },
      "outputs": [
        {
          "name": "stdout",
          "output_type": "stream",
          "text": [
            "Філіал з найвищим прибутком знаходиться в місті: Naypyitaw\n",
            "C\n"
          ]
        }
      ],
      "source": [
        "most_profitable_branch = df.pivot_table(index='Branch', values='gross income', aggfunc='sum').idxmax()[0]\n",
        "city_of_branch = df[df['Branch'] == most_profitable_branch]['City'].iloc[0]\n",
        "print(f\"Філіал з найвищим прибутком знаходиться в місті: {city_of_branch}\")\n",
        "print(most_profitable_branch)\n"
      ]
    },
    {
      "cell_type": "markdown",
      "metadata": {
        "id": "6dec795f"
      },
      "source": [
        "3.1. Створіть зводну таблицю, яка покаже, скільки покупок (інвойсів) було зроблено в кожній з філій (`Branch`) за різними категоріями товарів. Запишіть таблицю в змінну `invoices_by_category` і виведіть змінну на екран.\n",
        "Ця таблиця допоможе проаналізувати, в якій філії купують найбільше товарів кожної з категорій."
      ]
    },
    {
      "cell_type": "code",
      "execution_count": 12,
      "metadata": {
        "id": "N7TfUBf4ZrkX"
      },
      "outputs": [
        {
          "data": {
            "text/html": [
              "<div>\n",
              "<style scoped>\n",
              "    .dataframe tbody tr th:only-of-type {\n",
              "        vertical-align: middle;\n",
              "    }\n",
              "\n",
              "    .dataframe tbody tr th {\n",
              "        vertical-align: top;\n",
              "    }\n",
              "\n",
              "    .dataframe thead th {\n",
              "        text-align: right;\n",
              "    }\n",
              "</style>\n",
              "<table border=\"1\" class=\"dataframe\">\n",
              "  <thead>\n",
              "    <tr style=\"text-align: right;\">\n",
              "      <th>Product line</th>\n",
              "      <th>Electronic accessories</th>\n",
              "      <th>Fashion accessories</th>\n",
              "      <th>Food and beverages</th>\n",
              "      <th>Health and beauty</th>\n",
              "      <th>Home and lifestyle</th>\n",
              "      <th>Sports and travel</th>\n",
              "    </tr>\n",
              "    <tr>\n",
              "      <th>Branch</th>\n",
              "      <th></th>\n",
              "      <th></th>\n",
              "      <th></th>\n",
              "      <th></th>\n",
              "      <th></th>\n",
              "      <th></th>\n",
              "    </tr>\n",
              "  </thead>\n",
              "  <tbody>\n",
              "    <tr>\n",
              "      <th>A</th>\n",
              "      <td>60</td>\n",
              "      <td>51</td>\n",
              "      <td>58</td>\n",
              "      <td>47</td>\n",
              "      <td>65</td>\n",
              "      <td>59</td>\n",
              "    </tr>\n",
              "    <tr>\n",
              "      <th>B</th>\n",
              "      <td>55</td>\n",
              "      <td>62</td>\n",
              "      <td>50</td>\n",
              "      <td>53</td>\n",
              "      <td>50</td>\n",
              "      <td>62</td>\n",
              "    </tr>\n",
              "    <tr>\n",
              "      <th>C</th>\n",
              "      <td>55</td>\n",
              "      <td>65</td>\n",
              "      <td>66</td>\n",
              "      <td>52</td>\n",
              "      <td>45</td>\n",
              "      <td>45</td>\n",
              "    </tr>\n",
              "  </tbody>\n",
              "</table>\n",
              "</div>"
            ],
            "text/plain": [
              "Product line  Electronic accessories  Fashion accessories  Food and beverages  \\\n",
              "Branch                                                                          \n",
              "A                                 60                   51                  58   \n",
              "B                                 55                   62                  50   \n",
              "C                                 55                   65                  66   \n",
              "\n",
              "Product line  Health and beauty  Home and lifestyle  Sports and travel  \n",
              "Branch                                                                  \n",
              "A                            47                  65                 59  \n",
              "B                            53                  50                 62  \n",
              "C                            52                  45                 45  "
            ]
          },
          "metadata": {},
          "output_type": "display_data"
        }
      ],
      "source": [
        "invoices_by_category = df.pivot_table(\n",
        "    index='Branch',\n",
        "    columns='Product line',\n",
        "    values='Invoice ID', \n",
        "    aggfunc='count',\n",
        "    fill_value=0\n",
        ")\n",
        "\n",
        "display(invoices_by_category)\n"
      ]
    },
    {
      "cell_type": "markdown",
      "metadata": {
        "ExecuteTime": {
          "end_time": "2022-11-01T16:50:46.961201Z",
          "start_time": "2022-11-01T16:50:46.955894Z"
        },
        "id": "f5bbfa34"
      },
      "source": [
        "Очікуваний результат:"
      ]
    },
    {
      "cell_type": "markdown",
      "metadata": {
        "id": "34b9bcdc"
      },
      "source": [
        "![](https://drive.google.com/uc?export=view&id=1rueAdko6S3UxIHGtojetTxlES-EyM6Yb)"
      ]
    },
    {
      "cell_type": "markdown",
      "metadata": {
        "id": "woygDEA0OSwJ"
      },
      "source": [
        "3.2. Викристовуючи змінну `invoices_by_category` дайте відповідь програмно (тобто значення треба не просто знайти очима, а вивести за допомогою коду), в якому філіалі магазину (`Branch`) найбільше інвойсів із покупкою товарів категорії \"Електронні аксесуари\" (`Electronic accessories`)?\n"
      ]
    },
    {
      "cell_type": "code",
      "execution_count": 13,
      "metadata": {
        "id": "B5x8kTE-Qcq8"
      },
      "outputs": [
        {
          "name": "stdout",
          "output_type": "stream",
          "text": [
            "Філіал з найбільшою кількістю інвойсів категорії 'Electronic accessories': A\n",
            "Кількість інвойсів: 60\n"
          ]
        }
      ],
      "source": [
        "max_branch = invoices_by_category['Electronic accessories'].idxmax()\n",
        "max_invoices = invoices_by_category['Electronic accessories'].max()\n",
        "\n",
        "print(f\"Філіал з найбільшою кількістю інвойсів категорії 'Electronic accessories': {max_branch}\")\n",
        "print(f\"Кількість інвойсів: {max_invoices}\")\n"
      ]
    },
    {
      "cell_type": "markdown",
      "metadata": {
        "ExecuteTime": {
          "end_time": "2022-11-01T17:56:02.981755Z",
          "start_time": "2022-11-01T17:56:02.977086Z"
        },
        "id": "d005a2b8"
      },
      "source": [
        "4-6. **Творче завдання на розвиток аналітичного мислення**\n",
        "\n",
        "Крок 1. Сформулюйте ТРИ питання (гіпотези) до наявних даних, які допомогли б вам зрозуміти, які користувачі що, де та коли найбільше/найменше купують, аби дати на основі цих гіпотез рекомендації бізнесу. Звісно питання мають бути не тими, на які ми вже відповіли в завданнях модулю.\n",
        "\n",
        "Крок 2. Знайдіть відповіді на свої питання з допомогою функціоналу pandas.\n",
        "\n",
        "Крок 3. Напишіть, як відповідь на це питання може бути використана для прийняття бізнес рішень.   \n",
        "   \n",
        " Питання можуть бути будь-якої складності, але їх має бути 3. Кожне питання оцінюється як 1 завдання. Без виконання цього завдання ДЗ не приймається. Якщо є питання щодо виконання - пишіть у чат 🙌\n"
      ]
    },
    {
      "cell_type": "markdown",
      "metadata": {},
      "source": [
        "Чи купують більше клієнти, які платять готівкою, карткою чи електронними гаманцями?\n",
        "Чи варто проводити спеціальні акції у дні з меншим продажем?\n",
        "Чи більше товарів купують задоволені клієнти?"
      ]
    },
    {
      "cell_type": "code",
      "execution_count": 20,
      "metadata": {
        "id": "cM3cApWSZuRX"
      },
      "outputs": [
        {
          "name": "stdout",
          "output_type": "stream",
          "text": [
            "Середній чек за типом оплати:\n",
            "Payment\n",
            "Cash           326.181890\n",
            "Credit card    324.009878\n",
            "Ewallet        318.820600\n",
            "Name: Total, dtype: float64\n",
            "\n",
            "Сумарні продажі по днях тижня:\n",
            "Day\n",
            "Saturday     56120.8095\n",
            "Tuesday      51482.2455\n",
            "Thursday     45349.2480\n",
            "Sunday       44457.8925\n",
            "Friday       43926.3405\n",
            "Wednesday    43731.1350\n",
            "Monday       37899.0780\n",
            "Name: Total, dtype: float64\n",
            "\n",
            "Кореляція між кількістю товарів і рейтингом: -0.02\n"
          ]
        }
      ],
      "source": [
        "# df['Date'].head()\n",
        "# df.head()\n",
        "# Гіпотеза 1: \n",
        "avg_total_by_payment = df.groupby('Payment')['Total'].mean()\n",
        "print(\"Середній чек за типом оплати:\")\n",
        "print(avg_total_by_payment)\n",
        "\n",
        "\n",
        "# Гіпотеза 2:\n",
        "df['Day'] = pd.to_datetime(df['Date']).dt.day_name()\n",
        "\n",
        "total_by_day = df.groupby('Day')['Total'].sum().sort_values(ascending=False)\n",
        "print(\"\\nСумарні продажі по днях тижня:\")\n",
        "print(total_by_day)\n",
        "\n",
        "\n",
        "# Гіпотеза 3: \n",
        "correlation_qty_rating = df[['Quantity', 'Rating']].corr().loc['Quantity', 'Rating']\n",
        "print(f\"\\nКореляція між кількістю товарів і рейтингом: {correlation_qty_rating:.2f}\")\n",
        "\n",
        "\n"
      ]
    },
    {
      "cell_type": "markdown",
      "metadata": {},
      "source": [
        "1)Якщо певний тип оплати пов’язаний із більшими покупками, можна стимулювати цей спосіб оплати через акції, знижки чи кешбек.\n",
        "2)Якщо є дні з низькими продажами, варто проводити промо-акції або спеціальні пропозиції саме у ці дні, щоб збалансувати потік покупців.\n",
        "3)Якщо задоволені клієнти купують більше товарів, можна акцентувати увагу на підвищенні якості сервісу і клієнтського досвіду для збільшення середнього чеку.\n"
      ]
    }
  ],
  "metadata": {
    "colab": {
      "provenance": []
    },
    "kernelspec": {
      "display_name": ".venv",
      "language": "python",
      "name": "python3"
    },
    "language_info": {
      "codemirror_mode": {
        "name": "ipython",
        "version": 3
      },
      "file_extension": ".py",
      "mimetype": "text/x-python",
      "name": "python",
      "nbconvert_exporter": "python",
      "pygments_lexer": "ipython3",
      "version": "3.7.3"
    }
  },
  "nbformat": 4,
  "nbformat_minor": 0
}
